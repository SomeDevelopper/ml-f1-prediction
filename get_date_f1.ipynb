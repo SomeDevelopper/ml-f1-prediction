{
 "cells": [
  {
   "cell_type": "code",
   "execution_count": 1,
   "id": "0dbec27c-18d6-4932-9bea-b3c4896c8f77",
   "metadata": {},
   "outputs": [
    {
     "name": "stdout",
     "output_type": "stream",
     "text": [
      "\n",
      "\u001b[1m[\u001b[0m\u001b[34;49mnotice\u001b[0m\u001b[1;39;49m]\u001b[0m\u001b[39;49m A new release of pip is available: \u001b[0m\u001b[31;49m24.3.1\u001b[0m\u001b[39;49m -> \u001b[0m\u001b[32;49m25.0.1\u001b[0m\n",
      "\u001b[1m[\u001b[0m\u001b[34;49mnotice\u001b[0m\u001b[1;39;49m]\u001b[0m\u001b[39;49m To update, run: \u001b[0m\u001b[32;49mpip install --upgrade pip\u001b[0m\n"
     ]
    }
   ],
   "source": [
    "! pip install -q fastF1"
   ]
  },
  {
   "cell_type": "code",
   "execution_count": 7,
   "id": "3bacfde4-be2b-46af-b139-ce37af72d43d",
   "metadata": {},
   "outputs": [
    {
     "ename": "ModuleNotFoundError",
     "evalue": "No module named 'fastf1'",
     "output_type": "error",
     "traceback": [
      "\u001b[31m---------------------------------------------------------------------------\u001b[39m",
      "\u001b[31mModuleNotFoundError\u001b[39m                       Traceback (most recent call last)",
      "\u001b[36mCell\u001b[39m\u001b[36m \u001b[39m\u001b[32mIn[7]\u001b[39m\u001b[32m, line 1\u001b[39m\n\u001b[32m----> \u001b[39m\u001b[32m1\u001b[39m \u001b[38;5;28;01mimport\u001b[39;00m\u001b[38;5;250m \u001b[39m\u001b[34;01mfastf1\u001b[39;00m\n\u001b[32m      2\u001b[39m \u001b[38;5;28;01mimport\u001b[39;00m\u001b[38;5;250m \u001b[39m\u001b[34;01mos\u001b[39;00m\n\u001b[32m      4\u001b[39m os.mkdir(\u001b[33m'\u001b[39m\u001b[33mfastf1_cache\u001b[39m\u001b[33m'\u001b[39m)\n",
      "\u001b[31mModuleNotFoundError\u001b[39m: No module named 'fastf1'"
     ]
    }
   ],
   "source": [
    "import fastf1\n",
    "import os\n",
    "\n",
    "os.mkdir('fastf1_cache')\n",
    "fastf1.Cache.enable_cache('fastf1_cache')\n",
    "\n",
    "course = fastf1.get_session(2023, 'monza', 'R')\n",
    "course.load()"
   ]
  },
  {
   "cell_type": "code",
   "execution_count": null,
   "id": "d09ef0b7-944b-4877-918b-ebc2f1947f03",
   "metadata": {},
   "outputs": [
    {
     "name": "stdout",
     "output_type": "stream",
     "text": [
      "{'nom_course': 'Italian Grand Prix', 'circuit': 'Monza', 'Date': Timestamp('2023-09-03 13:00:00'), 'météo_initiale': 28.5}\n"
     ]
    }
   ],
   "source": [
    "# Informations sur la course\n",
    "\n",
    "course_info = {\n",
    "    \"nom_course\": course.event.EventName,\n",
    "    \"circuit\": course.event.Location,\n",
    "    \"Date\": course.date,\n",
    "    \"météo_initiale\": float(course.weather_data[\"AirTemp\"].iloc[0])\n",
    "}\n",
    "print(course_info)"
   ]
  },
  {
   "cell_type": "code",
   "execution_count": null,
   "id": "da0d374e-f8a9-4fb2-8530-b3e8f32e6b8e",
   "metadata": {},
   "outputs": [
    {
     "name": "stdout",
     "output_type": "stream",
     "text": [
      "[{'id_pilote': '1', 'nom': 'Max Verstappen', 'équipe': 'Red Bull Racing', 'numéro': '1'}, {'id_pilote': '11', 'nom': 'Sergio Perez', 'équipe': 'Red Bull Racing', 'numéro': '11'}, {'id_pilote': '55', 'nom': 'Carlos Sainz', 'équipe': 'Ferrari', 'numéro': '55'}, {'id_pilote': '16', 'nom': 'Charles Leclerc', 'équipe': 'Ferrari', 'numéro': '16'}, {'id_pilote': '63', 'nom': 'George Russell', 'équipe': 'Mercedes', 'numéro': '63'}, {'id_pilote': '44', 'nom': 'Lewis Hamilton', 'équipe': 'Mercedes', 'numéro': '44'}, {'id_pilote': '23', 'nom': 'Alexander Albon', 'équipe': 'Williams', 'numéro': '23'}, {'id_pilote': '4', 'nom': 'Lando Norris', 'équipe': 'McLaren', 'numéro': '4'}, {'id_pilote': '14', 'nom': 'Fernando Alonso', 'équipe': 'Aston Martin', 'numéro': '14'}, {'id_pilote': '77', 'nom': 'Valtteri Bottas', 'équipe': 'Alfa Romeo', 'numéro': '77'}, {'id_pilote': '40', 'nom': 'Liam Lawson', 'équipe': 'AlphaTauri', 'numéro': '40'}, {'id_pilote': '81', 'nom': 'Oscar Piastri', 'équipe': 'McLaren', 'numéro': '81'}, {'id_pilote': '2', 'nom': 'Logan Sargeant', 'équipe': 'Williams', 'numéro': '2'}, {'id_pilote': '24', 'nom': 'Guanyu Zhou', 'équipe': 'Alfa Romeo', 'numéro': '24'}, {'id_pilote': '10', 'nom': 'Pierre Gasly', 'équipe': 'Alpine', 'numéro': '10'}, {'id_pilote': '18', 'nom': 'Lance Stroll', 'équipe': 'Aston Martin', 'numéro': '18'}, {'id_pilote': '27', 'nom': 'Nico Hulkenberg', 'équipe': 'Haas F1 Team', 'numéro': '27'}, {'id_pilote': '20', 'nom': 'Kevin Magnussen', 'équipe': 'Haas F1 Team', 'numéro': '20'}, {'id_pilote': '31', 'nom': 'Esteban Ocon', 'équipe': 'Alpine', 'numéro': '31'}, {'id_pilote': '22', 'nom': 'Yuki Tsunoda', 'équipe': 'AlphaTauri', 'numéro': '22'}]\n"
     ]
    }
   ],
   "source": [
    "# Récupération des informations sur les pilotes\n",
    "\n",
    "pilotes_info = []\n",
    "for driver in course.drivers:\n",
    "    driver_data = course.get_driver(driver)\n",
    "    pilotes_info.append({\n",
    "        \"id_pilote\": driver,\n",
    "        \"nom\": driver_data[\"FullName\"],\n",
    "        \"équipe\": driver_data[\"TeamName\"],\n",
    "        \"numéro\": driver_data[\"DriverNumber\"]\n",
    "    })\n",
    "\n",
    "print(pilotes_info)"
   ]
  },
  {
   "cell_type": "code",
   "execution_count": null,
   "id": "e50ffc5a-9d55-42e1-b6dc-85df5d941442",
   "metadata": {},
   "outputs": [
    {
     "name": "stdout",
     "output_type": "stream",
     "text": [
      "[{'id_course': 'Italian Grand Prix', 'id_pilote': '1', 'pilote': 'VER', 'numéro_tour': 1.0, 'temps_tour': 87.905, 'sector_1_time': nan, 'sector_2_time': 29.666, 'sector_3_time': 28.473, 'delta_best_lap': 2.8329999999999984, 'speed_trap': 285.0}, {'id_course': 'Italian Grand Prix', 'id_pilote': '1', 'pilote': 'VER', 'numéro_tour': 2.0, 'temps_tour': 86.163, 'sector_1_time': 28.274, 'sector_2_time': 29.543, 'sector_3_time': 28.346, 'delta_best_lap': 1.090999999999994, 'speed_trap': 305.0}, {'id_course': 'Italian Grand Prix', 'id_pilote': '1', 'pilote': 'VER', 'numéro_tour': 3.0, 'temps_tour': 85.702, 'sector_1_time': 28.097, 'sector_2_time': 29.32, 'sector_3_time': 28.285, 'delta_best_lap': 0.6299999999999955, 'speed_trap': 309.0}, {'id_course': 'Italian Grand Prix', 'id_pilote': '1', 'pilote': 'VER', 'numéro_tour': 4.0, 'temps_tour': 86.05, 'sector_1_time': 28.145, 'sector_2_time': 29.474, 'sector_3_time': 28.431, 'delta_best_lap': 0.9779999999999944, 'speed_trap': 318.0}, {'id_course': 'Italian Grand Prix', 'id_pilote': '1', 'pilote': 'VER', 'numéro_tour': 5.0, 'temps_tour': 86.176, 'sector_1_time': 28.155, 'sector_2_time': 29.514, 'sector_3_time': 28.507, 'delta_best_lap': 1.1039999999999992, 'speed_trap': 317.0}]\n"
     ]
    }
   ],
   "source": [
    "# Récupération des temps au tour\n",
    "\n",
    "laps = course.laps\n",
    "temps_tours = []\n",
    "\n",
    "for _, lap in laps.iterrows():\n",
    "    temps_tours.append({\n",
    "        \"id_course\": course.event.EventName,\n",
    "        \"id_pilote\": lap[\"DriverNumber\"],\n",
    "        \"pilote\": lap['Driver'],\n",
    "        \"numéro_tour\": lap[\"LapNumber\"],\n",
    "        \"temps_tour\": lap[\"LapTime\"].total_seconds(),  # Convertir en secondes\n",
    "        \"sector_1_time\": lap[\"Sector1Time\"].total_seconds(),\n",
    "        \"sector_2_time\": lap[\"Sector2Time\"].total_seconds(),\n",
    "        \"sector_3_time\": lap[\"Sector3Time\"].total_seconds(),\n",
    "        \"delta_best_lap\": lap[\"LapTime\"].total_seconds() - laps[\"LapTime\"].min().total_seconds(),\n",
    "        \"speed_trap\": lap[\"SpeedST\"]  # Vitesse max au Speed Trap\n",
    "    })\n",
    "\n",
    "print(temps_tours[:5])"
   ]
  },
  {
   "cell_type": "code",
   "execution_count": 15,
   "id": "e8cf2136",
   "metadata": {},
   "outputs": [
    {
     "name": "stdout",
     "output_type": "stream",
     "text": [
      "[{'id_course': 'Italian Grand Prix', 'id_pilote': '1', 'pilote': 'VER', 'numéro_tour': 1.0, 'temps_tour': 87.905, 'sector_1_time': nan, 'sector_2_time': 29.666, 'sector_3_time': 28.473, 'delta_best_lap': 2.8329999999999984, 'speed_trap': 285.0}, {'id_course': 'Italian Grand Prix', 'id_pilote': '1', 'pilote': 'VER', 'numéro_tour': 2.0, 'temps_tour': 86.163, 'sector_1_time': 28.274, 'sector_2_time': 29.543, 'sector_3_time': 28.346, 'delta_best_lap': 1.090999999999994, 'speed_trap': 305.0}, {'id_course': 'Italian Grand Prix', 'id_pilote': '1', 'pilote': 'VER', 'numéro_tour': 3.0, 'temps_tour': 85.702, 'sector_1_time': 28.097, 'sector_2_time': 29.32, 'sector_3_time': 28.285, 'delta_best_lap': 0.6299999999999955, 'speed_trap': 309.0}, {'id_course': 'Italian Grand Prix', 'id_pilote': '1', 'pilote': 'VER', 'numéro_tour': 4.0, 'temps_tour': 86.05, 'sector_1_time': 28.145, 'sector_2_time': 29.474, 'sector_3_time': 28.431, 'delta_best_lap': 0.9779999999999944, 'speed_trap': 318.0}, {'id_course': 'Italian Grand Prix', 'id_pilote': '1', 'pilote': 'VER', 'numéro_tour': 5.0, 'temps_tour': 86.176, 'sector_1_time': 28.155, 'sector_2_time': 29.514, 'sector_3_time': 28.507, 'delta_best_lap': 1.1039999999999992, 'speed_trap': 317.0}]\n"
     ]
    }
   ],
   "source": [
    "# Récupration les temps au tour de chaque pilote\n",
    "\n",
    "laps = course.laps\n",
    "temps_tours = list()\n",
    "\n",
    "for _, lap in laps.iterrows():\n",
    "    temps_tours.append({\n",
    "        \"id_course\": course.event.EventName,\n",
    "        \"id_pilote\": lap[\"DriverNumber\"],\n",
    "        \"pilote\": lap['Driver'],\n",
    "        \"numéro_tour\": lap[\"LapNumber\"],\n",
    "        \"temps_tour\": lap[\"LapTime\"].total_seconds(),  # Convertir en secondes\n",
    "        \"sector_1_time\": lap[\"Sector1Time\"].total_seconds(),\n",
    "        \"sector_2_time\": lap[\"Sector2Time\"].total_seconds(),\n",
    "        \"sector_3_time\": lap[\"Sector3Time\"].total_seconds(),\n",
    "        \"delta_best_lap\": lap[\"LapTime\"].total_seconds() - laps[\"LapTime\"].min().total_seconds(),\n",
    "        \"speed_trap\": lap[\"SpeedST\"],  # Vitesse max au Speed Trap\n",
    "    })\n",
    "\n",
    "print(temps_tours[:5])"
   ]
  },
  {
   "cell_type": "code",
   "execution_count": 26,
   "id": "ca2dfd3e",
   "metadata": {},
   "outputs": [
    {
     "data": {
      "text/plain": [
       "[{'id_course': 'Italian Grand Prix',\n",
       "  'id_pilote': '1',\n",
       "  'pilote': 'VER',\n",
       "  'numéro_tour': 1.0,\n",
       "  'type_pneus': 'MEDIUM',\n",
       "  'age_pneus': 1.0},\n",
       " {'id_course': 'Italian Grand Prix',\n",
       "  'id_pilote': '1',\n",
       "  'pilote': 'VER',\n",
       "  'numéro_tour': 2.0,\n",
       "  'type_pneus': 'MEDIUM',\n",
       "  'age_pneus': 2.0},\n",
       " {'id_course': 'Italian Grand Prix',\n",
       "  'id_pilote': '1',\n",
       "  'pilote': 'VER',\n",
       "  'numéro_tour': 3.0,\n",
       "  'type_pneus': 'MEDIUM',\n",
       "  'age_pneus': 3.0},\n",
       " {'id_course': 'Italian Grand Prix',\n",
       "  'id_pilote': '1',\n",
       "  'pilote': 'VER',\n",
       "  'numéro_tour': 4.0,\n",
       "  'type_pneus': 'MEDIUM',\n",
       "  'age_pneus': 4.0},\n",
       " {'id_course': 'Italian Grand Prix',\n",
       "  'id_pilote': '1',\n",
       "  'pilote': 'VER',\n",
       "  'numéro_tour': 5.0,\n",
       "  'type_pneus': 'MEDIUM',\n",
       "  'age_pneus': 5.0}]"
      ]
     },
     "execution_count": 26,
     "metadata": {},
     "output_type": "execute_result"
    }
   ],
   "source": [
    "# Récupération des données des pneus\n",
    "\n",
    "pneus_info = list()\n",
    "\n",
    "for _, lap in laps.iterrows():\n",
    "    pneus_info.append({\n",
    "        \"id_course\": course.event.EventName,\n",
    "        \"id_pilote\": lap[\"DriverNumber\"],\n",
    "        \"pilote\": lap['Driver'],\n",
    "        \"numéro_tour\": lap[\"LapNumber\"],\n",
    "        \"type_pneus\": lap[\"Compound\"],\n",
    "        \"age_pneus\": lap[\"TyreLife\"]\n",
    "    })\n",
    "\n",
    "pneus_info[:5]"
   ]
  },
  {
   "cell_type": "code",
   "execution_count": 55,
   "id": "f8bea0e0",
   "metadata": {},
   "outputs": [
    {
     "data": {
      "text/plain": [
       "0      1\n",
       "1      1\n",
       "2      1\n",
       "3      1\n",
       "4      1\n",
       "      ..\n",
       "962    1\n",
       "963    1\n",
       "964    1\n",
       "965    1\n",
       "966    1\n",
       "Name: TrackStatus, Length: 967, dtype: object"
      ]
     },
     "execution_count": 55,
     "metadata": {},
     "output_type": "execute_result"
    }
   ],
   "source": [
    "course.laps['TrackStatus']"
   ]
  },
  {
   "cell_type": "code",
   "execution_count": 3,
   "id": "e8e7ef85",
   "metadata": {},
   "outputs": [
    {
     "name": "stdout",
     "output_type": "stream",
     "text": [
      "2021\n",
      "monza\n"
     ]
    },
    {
     "name": "stderr",
     "output_type": "stream",
     "text": [
      "core           INFO \tLoading data for Italian Grand Prix - Race [v3.5.3]\n",
      "req            INFO \tUsing cached data for session_info\n",
      "req            INFO \tUsing cached data for driver_info\n",
      "req            INFO \tUsing cached data for session_status_data\n",
      "req            INFO \tUsing cached data for lap_count\n",
      "req            INFO \tUsing cached data for track_status_data\n",
      "req            INFO \tUsing cached data for _extended_timing_data\n",
      "req            INFO \tUsing cached data for timing_app_data\n",
      "core           INFO \tProcessing timing data...\n",
      "req            INFO \tUsing cached data for car_data\n",
      "req            INFO \tUsing cached data for position_data\n",
      "req            INFO \tUsing cached data for weather_data\n",
      "req            INFO \tUsing cached data for race_control_messages\n",
      "core        WARNING \tDriver 3 completed the race distance 00:00.086000 before the recorded end of the session.\n",
      "core           INFO \tFinished loading data for 20 drivers: ['3', '4', '77', '16', '11', '55', '18', '14', '63', '31', '6', '5', '99', '88', '47', '9', '44', '33', '10', '22']\n"
     ]
    },
    {
     "name": "stdout",
     "output_type": "stream",
     "text": [
      "2022\n",
      "monza\n"
     ]
    },
    {
     "name": "stderr",
     "output_type": "stream",
     "text": [
      "core           INFO \tLoading data for Italian Grand Prix - Race [v3.5.3]\n",
      "req            INFO \tUsing cached data for session_info\n",
      "req            INFO \tUsing cached data for driver_info\n",
      "req            INFO \tUsing cached data for session_status_data\n",
      "req            INFO \tUsing cached data for lap_count\n",
      "req            INFO \tUsing cached data for track_status_data\n",
      "req            INFO \tUsing cached data for _extended_timing_data\n",
      "req            INFO \tUsing cached data for timing_app_data\n",
      "core           INFO \tProcessing timing data...\n",
      "req            INFO \tUsing cached data for car_data\n",
      "req            INFO \tUsing cached data for position_data\n",
      "req            INFO \tUsing cached data for weather_data\n",
      "req            INFO \tUsing cached data for race_control_messages\n",
      "core           INFO \tFinished loading data for 20 drivers: ['1', '16', '63', '55', '44', '11', '4', '10', '45', '24', '31', '47', '77', '22', '6', '20', '3', '18', '14', '5']\n",
      "core           INFO \tLoading data for Italian Grand Prix - Race [v3.5.3]\n",
      "req            INFO \tUsing cached data for session_info\n",
      "req            INFO \tUsing cached data for driver_info\n",
      "req            INFO \tUsing cached data for session_status_data\n",
      "req            INFO \tUsing cached data for lap_count\n",
      "req            INFO \tUsing cached data for track_status_data\n",
      "req            INFO \tUsing cached data for _extended_timing_data\n",
      "req            INFO \tUsing cached data for timing_app_data\n",
      "core           INFO \tProcessing timing data...\n"
     ]
    },
    {
     "name": "stdout",
     "output_type": "stream",
     "text": [
      "2023\n",
      "monza\n"
     ]
    },
    {
     "name": "stderr",
     "output_type": "stream",
     "text": [
      "req            INFO \tUsing cached data for car_data\n",
      "req            INFO \tUsing cached data for position_data\n",
      "req            INFO \tUsing cached data for weather_data\n",
      "req            INFO \tUsing cached data for race_control_messages\n",
      "core        WARNING \tDriver 1 completed the race distance 06:25.888000 before the recorded end of the session.\n",
      "core        WARNING \tDriver 11 completed the race distance 06:19.824000 before the recorded end of the session.\n",
      "core        WARNING \tDriver 55 completed the race distance 06:14.695000 before the recorded end of the session.\n",
      "core        WARNING \tDriver 16 completed the race distance 06:14.511000 before the recorded end of the session.\n",
      "core        WARNING \tDriver 63 completed the race distance 06:07.860000 before the recorded end of the session.\n",
      "core        WARNING \tDriver 44 completed the race distance 05:48.209000 before the recorded end of the session.\n",
      "core        WARNING \tDriver 23 completed the race distance 05:40.782000 before the recorded end of the session.\n",
      "core        WARNING \tDriver 4 completed the race distance 05:40.439000 before the recorded end of the session.\n",
      "core        WARNING \tDriver 14 completed the race distance 05:39.594000 before the recorded end of the session.\n",
      "core           INFO \tFinished loading data for 20 drivers: ['1', '11', '55', '16', '63', '44', '23', '4', '14', '77', '40', '81', '2', '24', '10', '18', '27', '20', '31', '22']\n"
     ]
    }
   ],
   "source": [
    "import fastf1\n",
    "import pandas as pd\n",
    "import os\n",
    "\n",
    "# os.mkdir('fastf1_cache')\n",
    "\n",
    "fastf1.Cache.enable_cache('fastf1_cache')\n",
    "\n",
    "all_grand_prix = [{2021, 'monza'}, {2022, 'monza'}, {2023, 'monza'}]\n",
    "\n",
    "all_data = list()\n",
    "\n",
    "for gp, year in all_grand_prix:\n",
    "    print(year)\n",
    "    print(gp)\n",
    "    session = fastf1.get_session(int(year), gp, 'R')\n",
    "    session.load()\n",
    "\n",
    "    laps = session.laps\n",
    "    weather = session.weather_data\n",
    "\n",
    "    laps[\"RaceElapsedTime\"] = (laps[\"LapStartTime\"] - laps[\"LapStartTime\"].iloc[0]).dt.total_seconds()\n",
    "    weather[\"RaceElapsedTime\"] = (weather[\"Time\"] - laps[\"LapStartTime\"].iloc[0]).dt.total_seconds()\n",
    "\n",
    "    df = pd.merge_asof(laps.sort_values(\"RaceElapsedTime\"),\n",
    "    weather.sort_values(\"RaceElapsedTime\"),\n",
    "    on='RaceElapsedTime',\n",
    "    direction='backward')\n",
    "\n",
    "    features = [\n",
    "        \"Driver\", \"LapNumber\", \"Stint\", \"Compound\", \"TyreLife\", \"FreshTyre\",\n",
    "        \"LapTime\", \"Sector1Time\", \"Sector2Time\", \"Sector3Time\",\n",
    "        \"SpeedI1\", \"SpeedI2\", \"SpeedFL\", \"SpeedST\",\n",
    "        \"Position\", \"RaceElapsedTime\",\n",
    "        \"AirTemp\", \"Humidity\", \"TrackTemp\", \"WindSpeed\", \"WindDirection\",\n",
    "        \"TrackStatus\"\n",
    "    ]\n",
    "\n",
    "    df = df[features].copy()\n",
    "    df['Year'] = year\n",
    "    all_data.append(df)\n",
    "\n",
    "season_data = pd.concat(all_data, ignore_index=True)\n",
    "\n",
    "season_data.to_csv(\"season_data.csv\", index=False)"
   ]
  }
 ],
 "metadata": {
  "kernelspec": {
   "display_name": ".venv",
   "language": "python",
   "name": "python3"
  },
  "language_info": {
   "codemirror_mode": {
    "name": "ipython",
    "version": 3
   },
   "file_extension": ".py",
   "mimetype": "text/x-python",
   "name": "python",
   "nbconvert_exporter": "python",
   "pygments_lexer": "ipython3",
   "version": "3.13.1"
  }
 },
 "nbformat": 4,
 "nbformat_minor": 5
}
